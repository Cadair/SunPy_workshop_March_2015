{
 "metadata": {
  "name": "",
  "signature": "sha256:39f8f1cfaefbfaf909ebade7348ad07d3b435182a4b50d7c42cdeb02f239819f"
 },
 "nbformat": 3,
 "nbformat_minor": 0,
 "worksheets": [
  {
   "cells": [
    {
     "cell_type": "heading",
     "level": 1,
     "metadata": {},
     "source": [
      "Displaying SunPy Data"
     ]
    },
    {
     "cell_type": "heading",
     "level": 2,
     "metadata": {},
     "source": [
      "Basic plotting"
     ]
    },
    {
     "cell_type": "markdown",
     "metadata": {},
     "source": [
      "Before doing anything we'll need to import SunPy and matplotlib:"
     ]
    },
    {
     "cell_type": "code",
     "collapsed": false,
     "input": [
      "import sunpy\n",
      "import matplotlib.pyplot as plt\n",
      "%matplotlib inline"
     ],
     "language": "python",
     "metadata": {},
     "outputs": []
    },
    {
     "cell_type": "heading",
     "level": 3,
     "metadata": {},
     "source": [
      "Plotting data from a Map"
     ]
    },
    {
     "cell_type": "code",
     "collapsed": false,
     "input": [
      "# Import Map and make a Map object to display\n",
      "from sunpy.map import Map\n",
      "aiamap = Map(sunpy.AIA_171_IMAGE)\n",
      "\n",
      "# Quick-plot the Map\n",
      "aiamap.peek()"
     ],
     "language": "python",
     "metadata": {},
     "outputs": []
    },
    {
     "cell_type": "code",
     "collapsed": false,
     "input": [
      "aiamap.peek(draw_grid=True, colorbar=False)"
     ],
     "language": "python",
     "metadata": {},
     "outputs": []
    },
    {
     "cell_type": "code",
     "collapsed": false,
     "input": [
      "plt.close()\n",
      "# Display the Map again\n",
      "aiamap.plot()\n",
      "plt.show()"
     ],
     "language": "python",
     "metadata": {},
     "outputs": []
    },
    {
     "cell_type": "code",
     "collapsed": false,
     "input": [
      "fig = plt.figure(figsize=(12, 12))\n",
      "aiamap.plot(vmin=200, vmax=900, cmap=\"cubehelix\")\n",
      "aiamap.draw_grid()\n",
      "plt.colorbar(orientation=\"horizontal\")\n",
      "plt.show()"
     ],
     "language": "python",
     "metadata": {},
     "outputs": []
    },
    {
     "cell_type": "heading",
     "level": 3,
     "metadata": {},
     "source": [
      "Plotting data from a LightCurve"
     ]
    },
    {
     "cell_type": "code",
     "collapsed": false,
     "input": [
      "import datetime\n",
      "import numpy as np\n",
      "from sunpy.lightcurve import LightCurve\n",
      "\n",
      "base = datetime.datetime.today()\n",
      "dates = [base - datetime.timedelta(minutes=x) for x in range(0, 24 * 60)]\n",
      "\n",
      "intensity = np.sin(np.arange(0, 12 * np.pi, step=(12 * np.pi) / (24 * 60)))\n",
      "\n",
      "light_curve = LightCurve.create(\n",
      "    {\"param1\": intensity}, index=dates\n",
      ")\n",
      "fig = light_curve.peek()"
     ],
     "language": "python",
     "metadata": {},
     "outputs": []
    },
    {
     "cell_type": "code",
     "collapsed": false,
     "input": [
      "plt.close()\n",
      "fig = plt.figure(figsize=(8, 8))\n",
      "light_curve.plot(color='green', linestyle='--')\n",
      "plt.xlim(base - datetime.timedelta(minutes=480), base)\n",
      "plt.show()"
     ],
     "language": "python",
     "metadata": {},
     "outputs": []
    },
    {
     "cell_type": "heading",
     "level": 3,
     "metadata": {},
     "source": [
      "Plotting data from a Spectrum"
     ]
    },
    {
     "cell_type": "code",
     "collapsed": false,
     "input": [
      "plt.close()\n",
      "from sunpy.spectra.spectrum import Spectrum\n",
      "\n",
      "# Could do with some actual data to plot here\n",
      "freq = range(60*24)\n",
      "\n",
      "intensity = np.sin(np.arange(0, 12 * np.pi, step=(12 * np.pi) / (24 * 60)))\n",
      "spec = Spectrum(intensity, freq)\n",
      "x = spec.peek()"
     ],
     "language": "python",
     "metadata": {},
     "outputs": []
    },
    {
     "cell_type": "code",
     "collapsed": false,
     "input": [
      "fig = plt.figure(figsize=(8, 8))\n",
      "spec.plot()\n",
      "plt.show()"
     ],
     "language": "python",
     "metadata": {},
     "outputs": []
    },
    {
     "cell_type": "heading",
     "level": 2,
     "metadata": {},
     "source": [
      "sunpy.image module"
     ]
    },
    {
     "cell_type": "heading",
     "level": 3,
     "metadata": {},
     "source": [
      "sunpy.image.rescale"
     ]
    },
    {
     "cell_type": "heading",
     "level": 3,
     "metadata": {},
     "source": [
      "sunpy.image.transform"
     ]
    },
    {
     "cell_type": "heading",
     "level": 3,
     "metadata": {},
     "source": [
      "sunpy.image.coalignment"
     ]
    },
    {
     "cell_type": "heading",
     "level": 2,
     "metadata": {},
     "source": [
      "sunpy.visualization module (?)"
     ]
    }
   ],
   "metadata": {}
  }
 ]
}