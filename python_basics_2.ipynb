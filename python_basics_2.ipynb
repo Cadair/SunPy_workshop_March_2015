{
 "metadata": {
  "name": "",
  "signature": "sha256:41d051b70755f52226ecf01cb8575f2b6d62ee0df21a00ce7938f2cd41129a68"
 },
 "nbformat": 3,
 "nbformat_minor": 0,
 "worksheets": [
  {
   "cells": [
    {
     "cell_type": "heading",
     "level": 1,
     "metadata": {},
     "source": [
      "Python basics 2"
     ]
    },
    {
     "cell_type": "heading",
     "level": 2,
     "metadata": {},
     "source": [
      "Object-Oriented Programming"
     ]
    },
    {
     "cell_type": "heading",
     "level": 3,
     "metadata": {},
     "source": [
      "Instances"
     ]
    },
    {
     "cell_type": "heading",
     "level": 3,
     "metadata": {},
     "source": [
      "Properties"
     ]
    },
    {
     "cell_type": "heading",
     "level": 3,
     "metadata": {},
     "source": [
      "Methods"
     ]
    },
    {
     "cell_type": "heading",
     "level": 3,
     "metadata": {},
     "source": [
      "Inheritance"
     ]
    },
    {
     "cell_type": "heading",
     "level": 2,
     "metadata": {},
     "source": [
      "Functions"
     ]
    },
    {
     "cell_type": "heading",
     "level": 3,
     "metadata": {},
     "source": [
      "Definition"
     ]
    },
    {
     "cell_type": "markdown",
     "metadata": {},
     "source": [
      "A function definition in Python has four parts: \n",
      "- definition of the function name and arguments\n",
      "- a docstring - optional, but strongly recommended!\n",
      "- function contents\n",
      "- return statement - also optional, but necessary for the function to give output\n",
      "\n",
      "These components are arranged in a very similar way to loops and if statements."
     ]
    },
    {
     "cell_type": "code",
     "collapsed": false,
     "input": [
      "def function_name(arg1, arg2, arg3): # Function name and argument(s) definition. Note the colon.\n",
      "    \"\"\"Optional docstring. This should describe what the function does and what the input should be.\n",
      "    This string will be displayed when you call help(function_name) and in some  help interfaces.\"\"\"\n",
      "    \n",
      "    # Function contents.\n",
      "    # Just the code that does what you want the function to do.\n",
      "    # Note the indentation, as with loops and ifs.\n",
      "    \n",
      "    return # Optional return statement. Exits the function immediately and returns the given variable(s) to the main code"
     ],
     "language": "python",
     "metadata": {},
     "outputs": []
    },
    {
     "cell_type": "markdown",
     "metadata": {},
     "source": [
      "If the return statement is omitted, or is present but with no variables, the output of the function is None. Otherwise, it returns any variables given to the main code.\n",
      "\n",
      "Since output from the function is dealt with by the return statement, arguments only need to specify input. Functions can have any number of arguments, including none."
     ]
    },
    {
     "cell_type": "code",
     "collapsed": false,
     "input": [
      "# Define an example function which returns the square of 5 and takes no input.\n",
      "def square_five():\n",
      "    \"\"\"A simple example function to square the number five\"\"\"\n",
      "    five_squared = 5 ** 2\n",
      "    \n",
      "    return five_squared"
     ],
     "language": "python",
     "metadata": {},
     "outputs": []
    },
    {
     "cell_type": "code",
     "collapsed": false,
     "input": [
      "print square_five()"
     ],
     "language": "python",
     "metadata": {},
     "outputs": []
    },
    {
     "cell_type": "code",
     "collapsed": false,
     "input": [
      "# Define an example function\n",
      "def square(x):\n",
      "    \"\"\"A simple example function to square a number\"\"\"\n",
      "    x_squared = x**2\n",
      "    \n",
      "    return x_squared"
     ],
     "language": "python",
     "metadata": {},
     "outputs": []
    },
    {
     "cell_type": "code",
     "collapsed": false,
     "input": [
      "# Call our function with some input\n",
      "print square(5), square(10)"
     ],
     "language": "python",
     "metadata": {},
     "outputs": []
    },
    {
     "cell_type": "heading",
     "level": 3,
     "metadata": {},
     "source": [
      "Positional arguments"
     ]
    },
    {
     "cell_type": "markdown",
     "metadata": {},
     "source": [
      "When a function has multiple arguments, the function call must provide those arguments in the right order (unless they're keyword arguments - we'll get to them in a minute). These are called positional arguments."
     ]
    },
    {
     "cell_type": "code",
     "collapsed": false,
     "input": [
      "# Define another function with two input arguments\n",
      "def power(x, pwr):\n",
      "    \"\"\"A simple example function to raise a number to the power of another number\"\"\"\n",
      "    x_to_pwr = x ** pwr\n",
      "    \n",
      "    return x_to_pwr"
     ],
     "language": "python",
     "metadata": {},
     "outputs": []
    },
    {
     "cell_type": "code",
     "collapsed": false,
     "input": [
      "# Call the function with some input\n",
      "print power(5, 2), power(5, 3)"
     ],
     "language": "python",
     "metadata": {},
     "outputs": []
    },
    {
     "cell_type": "code",
     "collapsed": false,
     "input": [
      "# Call the function again with arguments the other way around\n",
      "print power(2, 5)"
     ],
     "language": "python",
     "metadata": {},
     "outputs": []
    },
    {
     "cell_type": "heading",
     "level": 3,
     "metadata": {},
     "source": [
      "Keyword arguments"
     ]
    },
    {
     "cell_type": "markdown",
     "metadata": {},
     "source": [
      "Keyword arguments define a default value for a function argument. When calling the function, these can be omitted and the default value will be used."
     ]
    },
    {
     "cell_type": "code",
     "collapsed": false,
     "input": [
      "# Redefine the previous function making x and pwr keyword arguments with a default values of 5 and 2.\n",
      "def power(x=5, pwr=2):\n",
      "    \"\"\"Example function to raise a number to an optional power.\n",
      "    Default power is 2.\"\"\"\n",
      "    x_to_pwr = x ** pwr\n",
      "    \n",
      "    return x_to_pwr"
     ],
     "language": "python",
     "metadata": {},
     "outputs": []
    },
    {
     "cell_type": "code",
     "collapsed": false,
     "input": [
      "# Call the new function with default argument values\n",
      "print power(), power(x=6)"
     ],
     "language": "python",
     "metadata": {},
     "outputs": []
    },
    {
     "cell_type": "markdown",
     "metadata": {},
     "source": [
      "Keyword arguments can be given in any order as long as the keyword is also given. Otherwise they are just positional arguments and have to be given in the same order as in the function definition."
     ]
    },
    {
     "cell_type": "code",
     "collapsed": false,
     "input": [
      "# Call the function with keyword arguments in arbitrary order\n",
      "print power(pwr=3), power(pwr=3, x=6)"
     ],
     "language": "python",
     "metadata": {},
     "outputs": []
    },
    {
     "cell_type": "markdown",
     "metadata": {},
     "source": [
      "You can also mix keyword and positional arguments."
     ]
    },
    {
     "cell_type": "code",
     "collapsed": false,
     "input": [
      "# Call the function with both keyword and positional arguments\n",
      "print power(6,  pwr=3)"
     ],
     "language": "python",
     "metadata": {},
     "outputs": []
    },
    {
     "cell_type": "markdown",
     "metadata": {},
     "source": [
      "However, when doing this the positional arguments should always come before the keyword arguments."
     ]
    },
    {
     "cell_type": "code",
     "collapsed": false,
     "input": [
      "\n",
      "print power(pwr=3, 6)"
     ],
     "language": "python",
     "metadata": {},
     "outputs": []
    },
    {
     "cell_type": "heading",
     "level": 3,
     "metadata": {},
     "source": [
      "Challenge"
     ]
    },
    {
     "cell_type": "markdown",
     "metadata": {},
     "source": [
      "Define a function which takes as input a list and an integer. The function should return a new list containing all the items in the old list raised to the power of the integer. Give the integer argument a default value."
     ]
    },
    {
     "cell_type": "code",
     "collapsed": false,
     "input": [
      "def list_to_power(xlist , pwr=2):\n",
      "    \"\"\"Raise every item in a list, xlist, to a given power.\n",
      "    Results are returned in a new list.\"\"\"\n",
      "    newlist = [x ** pwr for x in xlist]\n",
      "    \n",
      "    return newlist"
     ],
     "language": "python",
     "metadata": {},
     "outputs": []
    },
    {
     "cell_type": "code",
     "collapsed": false,
     "input": [
      "print list_to_power(range(5)), list_to_power(range(0, 10, 2), pwr=3)"
     ],
     "language": "python",
     "metadata": {},
     "outputs": []
    },
    {
     "cell_type": "heading",
     "level": 2,
     "metadata": {},
     "source": [
      "Namespaces"
     ]
    }
   ],
   "metadata": {}
  }
 ]
}