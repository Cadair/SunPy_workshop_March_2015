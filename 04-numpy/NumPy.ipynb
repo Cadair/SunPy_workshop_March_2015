{
 "cells": [
  {
   "cell_type": "markdown",
   "metadata": {},
   "source": [
    "# NumPy"
   ]
  },
  {
   "cell_type": "markdown",
   "metadata": {},
   "source": [
    "NumPy is the core of any Python script that requires any kind of numerical computation.\n",
    "It provides a N-dimensional object that is missing in the core Python language.\n",
    "But it also contains many helper functions that are required for basic data analysis."
   ]
  },
  {
   "cell_type": "markdown",
   "metadata": {},
   "source": [
    "So let us begin, import numpy as follows."
   ]
  },
  {
   "cell_type": "code",
   "execution_count": 1,
   "metadata": {
    "collapsed": true
   },
   "outputs": [],
   "source": [
    "import numpy as np"
   ]
  },
  {
   "cell_type": "markdown",
   "metadata": {},
   "source": [
    "This imports the entire NumPy library under the namespace of np. You should've covered this in the previous session."
   ]
  },
  {
   "cell_type": "code",
   "execution_count": 2,
   "metadata": {
    "collapsed": false
   },
   "outputs": [
    {
     "data": {
      "text/plain": [
       "'1.9.2'"
      ]
     },
     "execution_count": 2,
     "metadata": {},
     "output_type": "execute_result"
    }
   ],
   "source": [
    "np.__version__ #Show them the NumPy namespace"
   ]
  },
  {
   "cell_type": "markdown",
   "metadata": {},
   "source": [
    "This is important to see. It is cluttered. Almost every NumPy function can be seen from that tab completion. Name-spacing is done differently for each module as we will see at the end of this session.\n",
    "But importing NumPy this way stops you not knowing where a function is being called from!"
   ]
  },
  {
   "cell_type": "markdown",
   "metadata": {},
   "source": [
    "## Arrays"
   ]
  },
  {
   "cell_type": "markdown",
   "metadata": {},
   "source": [
    "So arrays are the core feature of NumPy.\n",
    "\n",
    "We can create one like so,"
   ]
  },
  {
   "cell_type": "code",
   "execution_count": 3,
   "metadata": {
    "collapsed": false
   },
   "outputs": [
    {
     "data": {
      "text/plain": [
       "array([1])"
      ]
     },
     "execution_count": 3,
     "metadata": {},
     "output_type": "execute_result"
    }
   ],
   "source": [
    "np.array([1])"
   ]
  },
  {
   "cell_type": "markdown",
   "metadata": {},
   "source": [
    "It is important to note that for this function to work, you must have the argument be a single object. So here, you will wrap the whole input in either a list  **[]** or a tuple **()**.\n",
    "\n",
    "A one number array is pretty useless here, so we can create a larger array like so,"
   ]
  },
  {
   "cell_type": "code",
   "execution_count": 4,
   "metadata": {
    "collapsed": false
   },
   "outputs": [
    {
     "data": {
      "text/plain": [
       "array([[1, 2, 3],\n",
       "       [4, 5, 6]])"
      ]
     },
     "execution_count": 4,
     "metadata": {},
     "output_type": "execute_result"
    }
   ],
   "source": [
    "np.array([[1,2,3],[4,5,6]])"
   ]
  },
  {
   "cell_type": "markdown",
   "metadata": {},
   "source": [
    "These are very basic arrays, the first one is 1 by 1 and the second is 2 by 3. \n",
    "Numpy arrays tend to be **n** rows and **m**  columns for 2D arrays.\n",
    "This is due to the fact that Python is built on C which is row major. \n",
    "\n",
    "But we can have an array with any number of dimensions or any number of different variable types.\n",
    "Like so,\n"
   ]
  },
  {
   "cell_type": "code",
   "execution_count": 5,
   "metadata": {
    "collapsed": false
   },
   "outputs": [
    {
     "data": {
      "text/plain": [
       "array([[1], [1, 2], ['stt'], array([1, 2])], dtype=object)"
      ]
     },
     "execution_count": 5,
     "metadata": {},
     "output_type": "execute_result"
    }
   ],
   "source": [
    "np.array([[1],[1,2],['stt'], np.array([1,2])])"
   ]
  },
  {
   "cell_type": "markdown",
   "metadata": {},
   "source": [
    "I hope you never have to do that! There is some basic properties of arrays that are important to cover.\n",
    "\n",
    "Each array has a series of attributes that describes the fundamental properties of each array.\n",
    "\n",
    "ndarray.ndim:\n",
    "\n",
    "This is the number of axes (dimensions) of the array.\n",
    "\n",
    "ndarray.shape:\n",
    "\n",
    "This is a tuple of integers indicating the size of the array in each dimension. For a matrix with n rows and m columns, shape will be (n,m).\n",
    "\n",
    "ndarray.size: \n",
    "\n",
    "This is the total number of elements of the array.\n",
    "\n",
    "ndarray.dtype:\n",
    "\n",
    "This is the object describing the type of the elements in the array, for example, integer or float.\n",
    "\n",
    "Further you can create arrays filled with either zeroes or ones if you require. This time you specify the shape i.e the dimensions of the array as input."
   ]
  },
  {
   "cell_type": "code",
   "execution_count": 6,
   "metadata": {
    "collapsed": false
   },
   "outputs": [
    {
     "data": {
      "text/plain": [
       "(array([ 0.,  0.,  0.,  0.,  0.,  0.,  0.,  0.,  0.,  0.]),\n",
       " array([[[ 0.,  0.,  0.,  0.,  0.,  0.],\n",
       "         [ 0.,  0.,  0.,  0.,  0.,  0.],\n",
       "         [ 0.,  0.,  0.,  0.,  0.,  0.],\n",
       "         [ 0.,  0.,  0.,  0.,  0.,  0.],\n",
       "         [ 0.,  0.,  0.,  0.,  0.,  0.]],\n",
       " \n",
       "        [[ 0.,  0.,  0.,  0.,  0.,  0.],\n",
       "         [ 0.,  0.,  0.,  0.,  0.,  0.],\n",
       "         [ 0.,  0.,  0.,  0.,  0.,  0.],\n",
       "         [ 0.,  0.,  0.,  0.,  0.,  0.],\n",
       "         [ 0.,  0.,  0.,  0.,  0.,  0.]],\n",
       " \n",
       "        [[ 0.,  0.,  0.,  0.,  0.,  0.],\n",
       "         [ 0.,  0.,  0.,  0.,  0.,  0.],\n",
       "         [ 0.,  0.,  0.,  0.,  0.,  0.],\n",
       "         [ 0.,  0.,  0.,  0.,  0.,  0.],\n",
       "         [ 0.,  0.,  0.,  0.,  0.,  0.]]]),\n",
       " array([[[[[ 1.,  1.,  1.,  1.,  1.],\n",
       "           [ 1.,  1.,  1.,  1.,  1.],\n",
       "           [ 1.,  1.,  1.,  1.,  1.],\n",
       "           [ 1.,  1.,  1.,  1.,  1.]],\n",
       " \n",
       "          [[ 1.,  1.,  1.,  1.,  1.],\n",
       "           [ 1.,  1.,  1.,  1.,  1.],\n",
       "           [ 1.,  1.,  1.,  1.,  1.],\n",
       "           [ 1.,  1.,  1.,  1.,  1.]],\n",
       " \n",
       "          [[ 1.,  1.,  1.,  1.,  1.],\n",
       "           [ 1.,  1.,  1.,  1.,  1.],\n",
       "           [ 1.,  1.,  1.,  1.,  1.],\n",
       "           [ 1.,  1.,  1.,  1.,  1.]]],\n",
       " \n",
       " \n",
       "         [[[ 1.,  1.,  1.,  1.,  1.],\n",
       "           [ 1.,  1.,  1.,  1.,  1.],\n",
       "           [ 1.,  1.,  1.,  1.,  1.],\n",
       "           [ 1.,  1.,  1.,  1.,  1.]],\n",
       " \n",
       "          [[ 1.,  1.,  1.,  1.,  1.],\n",
       "           [ 1.,  1.,  1.,  1.,  1.],\n",
       "           [ 1.,  1.,  1.,  1.,  1.],\n",
       "           [ 1.,  1.,  1.,  1.,  1.]],\n",
       " \n",
       "          [[ 1.,  1.,  1.,  1.,  1.],\n",
       "           [ 1.,  1.,  1.,  1.,  1.],\n",
       "           [ 1.,  1.,  1.,  1.,  1.],\n",
       "           [ 1.,  1.,  1.,  1.,  1.]]]]]))"
      ]
     },
     "execution_count": 6,
     "metadata": {},
     "output_type": "execute_result"
    }
   ],
   "source": [
    "np.zeros(10), np.zeros((3,5,6)), np.ones((1,2,3,4,5))"
   ]
  },
  {
   "cell_type": "markdown",
   "metadata": {},
   "source": [
    "So now we can create really strange arrays, it is time to get that information back out. \n",
    "To do this, we will now index the array and it is sometimes referred to as slicing.\n",
    "\n",
    "Python (like C) is row-major, so when we index an array, in the 2D we will end up the row first.\n",
    "\n",
    "Some basic examples,"
   ]
  },
  {
   "cell_type": "code",
   "execution_count": 7,
   "metadata": {
    "collapsed": false
   },
   "outputs": [
    {
     "data": {
      "text/plain": [
       "(2, 3)"
      ]
     },
     "execution_count": 7,
     "metadata": {},
     "output_type": "execute_result"
    }
   ],
   "source": [
    "arr = np.array([[1,2,3],[4,5,6]])\n",
    "arr.shape"
   ]
  },
  {
   "cell_type": "code",
   "execution_count": 8,
   "metadata": {
    "collapsed": false
   },
   "outputs": [
    {
     "data": {
      "text/plain": [
       "(array([1, 2, 3]), array([4, 5, 6]), 1)"
      ]
     },
     "execution_count": 8,
     "metadata": {},
     "output_type": "execute_result"
    }
   ],
   "source": [
    "arr[0],arr[1],arr[0][0]"
   ]
  },
  {
   "cell_type": "markdown",
   "metadata": {},
   "source": [
    "We can reassign variables inside these arrays, like you can do with lists. "
   ]
  },
  {
   "cell_type": "code",
   "execution_count": 9,
   "metadata": {
    "collapsed": false
   },
   "outputs": [
    {
     "data": {
      "text/plain": [
       "array([[120, 120, 120],\n",
       "       [  4,   5,   6]])"
      ]
     },
     "execution_count": 9,
     "metadata": {},
     "output_type": "execute_result"
    }
   ],
   "source": [
    "arr[0] = 120\n",
    "arr"
   ]
  },
  {
   "cell_type": "markdown",
   "metadata": {},
   "source": [
    "See what has happened? It has reassigned the entire row to be the same number."
   ]
  },
  {
   "cell_type": "code",
   "execution_count": 10,
   "metadata": {
    "collapsed": false
   },
   "outputs": [
    {
     "data": {
      "text/plain": [
       "array([[-100,  120,  120],\n",
       "       [   4,    5,    6]])"
      ]
     },
     "execution_count": 10,
     "metadata": {},
     "output_type": "execute_result"
    }
   ],
   "source": [
    "arr[0][0] = - 100\n",
    "arr"
   ]
  },
  {
   "cell_type": "markdown",
   "metadata": {},
   "source": [
    "Here, we have now just changed the first number in the first row. You have to index the specific value you require at times.\n",
    "\n",
    "There are other forms of indexing.\n",
    "This example will use a NumPy function called arange that is used to create a range of numbers.\n",
    "You specify a start, stop and step size. \n",
    "Here we will create 0 to 99 in steps of one."
   ]
  },
  {
   "cell_type": "code",
   "execution_count": 11,
   "metadata": {
    "collapsed": false
   },
   "outputs": [
    {
     "data": {
      "text/plain": [
       "array([ 0,  1,  2,  3,  4,  5,  6,  7,  8,  9, 10, 11, 12, 13, 14, 15, 16,\n",
       "       17, 18, 19, 20, 21, 22, 23, 24, 25, 26, 27, 28, 29, 30, 31, 32, 33,\n",
       "       34, 35, 36, 37, 38, 39, 40, 41, 42, 43, 44, 45, 46, 47, 48, 49, 50,\n",
       "       51, 52, 53, 54, 55, 56, 57, 58, 59, 60, 61, 62, 63, 64, 65, 66, 67,\n",
       "       68, 69, 70, 71, 72, 73, 74, 75, 76, 77, 78, 79, 80, 81, 82, 83, 84,\n",
       "       85, 86, 87, 88, 89, 90, 91, 92, 93, 94, 95, 96, 97, 98, 99])"
      ]
     },
     "execution_count": 11,
     "metadata": {},
     "output_type": "execute_result"
    }
   ],
   "source": [
    "arr = np.arange(0,100)\n",
    "arr"
   ]
  },
  {
   "cell_type": "markdown",
   "metadata": {},
   "source": [
    "But what if for some reason you want the even elements?"
   ]
  },
  {
   "cell_type": "code",
   "execution_count": 12,
   "metadata": {
    "collapsed": false
   },
   "outputs": [
    {
     "data": {
      "text/plain": [
       "array([ 0,  2,  4,  6,  8, 10, 12, 14, 16, 18, 20, 22, 24, 26, 28, 30, 32,\n",
       "       34, 36, 38, 40, 42, 44, 46, 48, 50, 52, 54, 56, 58, 60, 62, 64, 66,\n",
       "       68, 70, 72, 74, 76, 78, 80, 82, 84, 86, 88, 90, 92, 94, 96, 98])"
      ]
     },
     "execution_count": 12,
     "metadata": {},
     "output_type": "execute_result"
    }
   ],
   "source": [
    "arr[::2]"
   ]
  },
  {
   "cell_type": "markdown",
   "metadata": {},
   "source": [
    "This allows some creative slicing opportunities!"
   ]
  },
  {
   "cell_type": "code",
   "execution_count": 13,
   "metadata": {
    "collapsed": false
   },
   "outputs": [
    {
     "data": {
      "text/plain": [
       "(array([ 0,  4,  8, 12, 16, 20, 24, 28, 32, 36, 40, 44, 48, 52, 56, 60, 64,\n",
       "        68, 72, 76, 80, 84, 88, 92, 96]),\n",
       " array([ 4,  7, 10, 13, 16, 19, 22, 25, 28, 31, 34, 37, 40, 43, 46, 49, 52,\n",
       "        55, 58, 61, 64, 67, 70, 73, 76, 79, 82, 85, 88, 91, 94, 97]),\n",
       " array([95, 90, 85, 80, 75, 70, 65, 60, 55, 50, 45, 40, 35, 30, 25, 20, 15,\n",
       "        10,  5,  0]))"
      ]
     },
     "execution_count": 13,
     "metadata": {},
     "output_type": "execute_result"
    }
   ],
   "source": [
    "arr[::4], arr[4::3], arr[95::-5]"
   ]
  },
  {
   "cell_type": "markdown",
   "metadata": {},
   "source": [
    "But wait! This is still 1D slicing. This won't help if your working on a 3D data set! \n",
    "\n",
    "So let us skip 3D and go for 4D data.\n",
    "Since you've not covered plotting or any fancy file input, I can't show you some of the lovely 4D observational data I have (also, the files are huge).\n",
    "\n",
    "So we will create a fake 4D array with this axis layout, [x, y, wave, time].\n",
    "To do this, we use another feature of NumPy, the random module, for all your random number needs.\n",
    "The name is important to note, the random functions in NumPy do not reside under the NumPy namespace directly. But under the NumPy.Random namespace. "
   ]
  },
  {
   "cell_type": "code",
   "execution_count": 14,
   "metadata": {
    "collapsed": false
   },
   "outputs": [
    {
     "data": {
      "text/plain": [
       "(400, 400, 4, 100)"
      ]
     },
     "execution_count": 14,
     "metadata": {},
     "output_type": "execute_result"
    }
   ],
   "source": [
    "fake_solar_data = np.random.random((400,400,4,100)) # Just a small one for RAM purposes.\n",
    "fake_solar_data.shape"
   ]
  },
  {
   "cell_type": "markdown",
   "metadata": {},
   "source": [
    "So we have our *data*, I want to see the image at the first time step.\n",
    "\n",
    "*There won't be a plot since it will be just static.*"
   ]
  },
  {
   "cell_type": "code",
   "execution_count": 15,
   "metadata": {
    "collapsed": false
   },
   "outputs": [
    {
     "data": {
      "text/plain": [
       "(400, 400)"
      ]
     },
     "execution_count": 15,
     "metadata": {},
     "output_type": "execute_result"
    }
   ],
   "source": [
    "fake_solar_data[:,:,0,0].shape"
   ]
  },
  {
   "cell_type": "markdown",
   "metadata": {},
   "source": [
    "The colon symbol is the same in IDL as the * symbol for arrays. It returns all the values for that index.\n",
    "If you want the values from several indices, there is another syntax method."
   ]
  },
  {
   "cell_type": "code",
   "execution_count": 16,
   "metadata": {
    "collapsed": false
   },
   "outputs": [
    {
     "data": {
      "text/plain": [
       "(400, 400, 4)"
      ]
     },
     "execution_count": 16,
     "metadata": {},
     "output_type": "execute_result"
    }
   ],
   "source": [
    "fake_solar_data[...,0].shape"
   ]
  },
  {
   "cell_type": "markdown",
   "metadata": {},
   "source": [
    "So say we want a line profile from this data set, we require a specific pixel co-ordinate but across all wavelengths."
   ]
  },
  {
   "cell_type": "code",
   "execution_count": 17,
   "metadata": {
    "collapsed": false
   },
   "outputs": [
    {
     "data": {
      "text/plain": [
       "(4,)"
      ]
     },
     "execution_count": 17,
     "metadata": {},
     "output_type": "execute_result"
    }
   ],
   "source": [
    "fake_solar_data[150,300,:,0].shape"
   ]
  },
  {
   "cell_type": "markdown",
   "metadata": {},
   "source": [
    "If you want a spectrum image, you want all of time!"
   ]
  },
  {
   "cell_type": "code",
   "execution_count": 18,
   "metadata": {
    "collapsed": false
   },
   "outputs": [
    {
     "data": {
      "text/plain": [
       "(4, 100)"
      ]
     },
     "execution_count": 18,
     "metadata": {},
     "output_type": "execute_result"
    }
   ],
   "source": [
    "fake_solar_data[150,300,:,:].shape"
   ]
  },
  {
   "cell_type": "markdown",
   "metadata": {},
   "source": [
    "Or,"
   ]
  },
  {
   "cell_type": "code",
   "execution_count": 19,
   "metadata": {
    "collapsed": false
   },
   "outputs": [
    {
     "data": {
      "text/plain": [
       "(4, 100)"
      ]
     },
     "execution_count": 19,
     "metadata": {},
     "output_type": "execute_result"
    }
   ],
   "source": [
    "fake_solar_data[150,300].shape"
   ]
  },
  {
   "cell_type": "markdown",
   "metadata": {},
   "source": [
    "I forgot to mention taking a small area of data!"
   ]
  },
  {
   "cell_type": "code",
   "execution_count": 20,
   "metadata": {
    "collapsed": false
   },
   "outputs": [
    {
     "data": {
      "text/plain": [
       "(200, 200, 100)"
      ]
     },
     "execution_count": 20,
     "metadata": {},
     "output_type": "execute_result"
    }
   ],
   "source": [
    "fake_solar_data[100:300,100:300,2].shape"
   ]
  },
  {
   "cell_type": "markdown",
   "metadata": {},
   "source": [
    "Here, we can use the colon symbol to specify a start and end range. \n",
    "So you could in the future, create a movie of your data set for this wavelength.\n",
    "\n",
    "That is basically all for slicing.\n",
    "However, we aren't finished yet with arrays!"
   ]
  },
  {
   "cell_type": "markdown",
   "metadata": {},
   "source": [
    "<div style='background:#B1E0A8; padding:10px 10px 10px 10px;'>\n",
    "<h2>Challenges</h2>\n",
    "<p>\n",
    "<ol>\n",
    "<li> Create a 3D array with size (150, 150) of nothing but zeroes. </li>\n",
    "<li> Fill it the number 12. </li>\n",
    "</p>\n",
    "</div>"
   ]
  },
  {
   "cell_type": "markdown",
   "metadata": {},
   "source": [
    "## Solution 1"
   ]
  },
  {
   "cell_type": "code",
   "execution_count": 21,
   "metadata": {
    "collapsed": false
   },
   "outputs": [],
   "source": [
    "zero_arr = np.zeros((150, 150))"
   ]
  },
  {
   "cell_type": "markdown",
   "metadata": {},
   "source": [
    "## Solution 2"
   ]
  },
  {
   "cell_type": "code",
   "execution_count": 22,
   "metadata": {
    "collapsed": false
   },
   "outputs": [
    {
     "data": {
      "text/plain": [
       "array([[ 12.,  12.,  12., ...,  12.,  12.,  12.],\n",
       "       [ 12.,  12.,  12., ...,  12.,  12.,  12.],\n",
       "       [ 12.,  12.,  12., ...,  12.,  12.,  12.],\n",
       "       ..., \n",
       "       [ 12.,  12.,  12., ...,  12.,  12.,  12.],\n",
       "       [ 12.,  12.,  12., ...,  12.,  12.,  12.],\n",
       "       [ 12.,  12.,  12., ...,  12.,  12.,  12.]])"
      ]
     },
     "execution_count": 22,
     "metadata": {},
     "output_type": "execute_result"
    }
   ],
   "source": [
    "for i in range(zero_arr.shape[0]):\n",
    "    for j in range(zero_arr.shape[1]):\n",
    "        zero_arr[i,j] = 12\n",
    "zero_arr"
   ]
  },
  {
   "cell_type": "markdown",
   "metadata": {},
   "source": [
    "## Broadcasting"
   ]
  },
  {
   "cell_type": "markdown",
   "metadata": {},
   "source": [
    "This word hides alot of the heavily lifting that NumPy does when it comes to array operations. Python is so very slow. Oh so slow. However, the C it is built upon is so quick. \n",
    "\n",
    "The goal of NumPy array development was that where possible, any numerical operation on a via an array would be done using the C API instead of Python.\n",
    "\n",
    "So to illustrate this, we do two different array multiplications."
   ]
  },
  {
   "cell_type": "code",
   "execution_count": 23,
   "metadata": {
    "collapsed": false
   },
   "outputs": [
    {
     "data": {
      "text/plain": [
       "array([  0.00000000e+00,   2.00000000e+00,   4.00000000e+00, ...,\n",
       "         1.99999400e+06,   1.99999600e+06,   1.99999800e+06])"
      ]
     },
     "execution_count": 23,
     "metadata": {},
     "output_type": "execute_result"
    }
   ],
   "source": [
    "a = np.arange(1000000)\n",
    "b = 2 * np.ones(1000000)\n",
    "a*b"
   ]
  },
  {
   "cell_type": "markdown",
   "metadata": {},
   "source": [
    "So, it simply does element by element multiplication. Nice and simples.\n",
    "\n",
    "Here, we have an array times a constant."
   ]
  },
  {
   "cell_type": "code",
   "execution_count": 24,
   "metadata": {
    "collapsed": false
   },
   "outputs": [
    {
     "data": {
      "text/plain": [
       "array([      0,       2,       4, ..., 1999994, 1999996, 1999998])"
      ]
     },
     "execution_count": 24,
     "metadata": {},
     "output_type": "execute_result"
    }
   ],
   "source": [
    "2 * a"
   ]
  },
  {
   "cell_type": "markdown",
   "metadata": {},
   "source": [
    "Once again, it simply times each element by the constant. However that is not what NumPy actually has done. It **\"stretches\"** the constant out, so that it appears to be an array with the same shape.\n",
    "This enables the operation to be done in C and not in Python.\n",
    "\n",
    "The interesting fact is that the second operation is faster than the first operation. One small caveat, it is slower if the array size is small."
   ]
  },
  {
   "cell_type": "code",
   "execution_count": 25,
   "metadata": {
    "collapsed": false
   },
   "outputs": [
    {
     "name": "stdout",
     "output_type": "stream",
     "text": [
      "1000 loops, best of 3: 1.89 ms per loop\n"
     ]
    }
   ],
   "source": [
    "%timeit a*b"
   ]
  },
  {
   "cell_type": "code",
   "execution_count": 26,
   "metadata": {
    "collapsed": false
   },
   "outputs": [
    {
     "name": "stdout",
     "output_type": "stream",
     "text": [
      "1000 loops, best of 3: 1.18 ms per loop\n"
     ]
    }
   ],
   "source": [
    "%timeit 2 * a"
   ]
  },
  {
   "cell_type": "markdown",
   "metadata": {},
   "source": [
    "So, NumPy allows you to add, multiply, subtract and divide arrays of different shapes as long as the the operation have the same number of columns. This means that the smaller array will be broadcast over the larger array resulting in an output.\n",
    "\n",
    "For example, here we will add a 1 by 3 array and a 1 by 1 array."
   ]
  },
  {
   "cell_type": "code",
   "execution_count": 27,
   "metadata": {
    "collapsed": false
   },
   "outputs": [
    {
     "data": {
      "text/plain": [
       "array([2, 3, 4])"
      ]
     },
     "execution_count": 27,
     "metadata": {},
     "output_type": "execute_result"
    }
   ],
   "source": [
    "np.array([1,2,3]) + np.array([1])"
   ]
  },
  {
   "cell_type": "markdown",
   "metadata": {},
   "source": [
    "Broadcasting has simply created a 1 by 3 array of 1s, allowing the summation to work.\n",
    "It will break like so,"
   ]
  },
  {
   "cell_type": "code",
   "execution_count": 28,
   "metadata": {
    "collapsed": false
   },
   "outputs": [
    {
     "ename": "ValueError",
     "evalue": "operands could not be broadcast together with shapes (3,) (2,) ",
     "output_type": "error",
     "traceback": [
      "\u001b[1;31m---------------------------------------------------------------------------\u001b[0m",
      "\u001b[1;31mValueError\u001b[0m                                Traceback (most recent call last)",
      "\u001b[1;32m<ipython-input-28-1c07eb0d9500>\u001b[0m in \u001b[0;36m<module>\u001b[1;34m()\u001b[0m\n\u001b[1;32m----> 1\u001b[1;33m \u001b[0mnp\u001b[0m\u001b[1;33m.\u001b[0m\u001b[0marray\u001b[0m\u001b[1;33m(\u001b[0m\u001b[1;33m[\u001b[0m\u001b[1;36m1\u001b[0m\u001b[1;33m,\u001b[0m\u001b[1;36m2\u001b[0m\u001b[1;33m,\u001b[0m\u001b[1;36m3\u001b[0m\u001b[1;33m]\u001b[0m\u001b[1;33m)\u001b[0m \u001b[1;33m+\u001b[0m \u001b[0mnp\u001b[0m\u001b[1;33m.\u001b[0m\u001b[0marray\u001b[0m\u001b[1;33m(\u001b[0m\u001b[1;33m[\u001b[0m\u001b[1;36m1\u001b[0m\u001b[1;33m,\u001b[0m\u001b[1;36m2\u001b[0m\u001b[1;33m]\u001b[0m\u001b[1;33m)\u001b[0m\u001b[1;33m\u001b[0m\u001b[0m\n\u001b[0m",
      "\u001b[1;31mValueError\u001b[0m: operands could not be broadcast together with shapes (3,) (2,) "
     ]
    }
   ],
   "source": [
    "np.array([1,2,3]) + np.array([1,2])"
   ]
  },
  {
   "cell_type": "markdown",
   "metadata": {},
   "source": [
    "If you stare at the error message, it simply tells you that the shapes are wrong. It is impossible to broadcast 2 values over 3 elements.\n",
    "\n",
    "Broadcasting does allow the outer product to be calculated of two arrays."
   ]
  },
  {
   "cell_type": "code",
   "execution_count": 29,
   "metadata": {
    "collapsed": false
   },
   "outputs": [],
   "source": [
    "a = np.array([0,10,20,30])\n",
    "b = np.array([1,2,3])"
   ]
  },
  {
   "cell_type": "code",
   "execution_count": 30,
   "metadata": {
    "collapsed": false,
    "scrolled": false
   },
   "outputs": [
    {
     "data": {
      "text/plain": [
       "(array([[ 0],\n",
       "        [10],\n",
       "        [20],\n",
       "        [30]]), (4, 1))"
      ]
     },
     "execution_count": 30,
     "metadata": {},
     "output_type": "execute_result"
    }
   ],
   "source": [
    "a[:,np.newaxis],a[:,np.newaxis].shape"
   ]
  },
  {
   "cell_type": "code",
   "execution_count": 31,
   "metadata": {
    "collapsed": false
   },
   "outputs": [
    {
     "data": {
      "text/plain": [
       "array([[ 1,  2,  3],\n",
       "       [11, 12, 13],\n",
       "       [21, 22, 23],\n",
       "       [31, 32, 33]])"
      ]
     },
     "execution_count": 31,
     "metadata": {},
     "output_type": "execute_result"
    }
   ],
   "source": [
    "a[:,np.newaxis] + b"
   ]
  },
  {
   "cell_type": "markdown",
   "metadata": {},
   "source": [
    "Here, a new NumPy function has been introduced. NumPy arrays allow a new axis to be added to in order to change the shape of any array. Each array was and still is 1D. However the first array was then turned into a column vector and then added to a row vector. The new array is 4 by 3. This is a outer product. You can do other outer operations like this.\n",
    "\n",
    "This is a simple overview of broadcasting, if you want to see the excat rules used, the link is http://docs.scipy.org/doc/numpy/reference/ufuncs.html#broadcasting\n",
    "\n",
    "Now on to some functions!"
   ]
  },
  {
   "cell_type": "markdown",
   "metadata": {},
   "source": [
    "## Functions"
   ]
  },
  {
   "cell_type": "markdown",
   "metadata": {},
   "source": [
    "So, arrays are all fancy but that isn't all that NumPy can do. "
   ]
  },
  {
   "cell_type": "code",
   "execution_count": 32,
   "metadata": {
    "collapsed": false,
    "scrolled": true
   },
   "outputs": [
    {
     "data": {
      "text/plain": [
       "array([[[[  6.10079216e-01,   8.01264522e-01,   6.59489767e-02, ...,\n",
       "            4.62556188e-01,   5.12723932e-01,   2.62523150e-02],\n",
       "         [  7.61135035e-01,   2.78851238e-01,   5.90659011e-01, ...,\n",
       "            7.76407761e-03,   5.03350743e-01,   2.65222948e-01],\n",
       "         [  5.12996430e-01,   4.83668595e-01,   7.53139950e-01, ...,\n",
       "            6.76103570e-01,   7.05069556e-01,   4.00662852e-01],\n",
       "         [  7.92750646e-01,   4.28291673e-01,   6.87400818e-01, ...,\n",
       "            5.53845060e-01,   9.83649343e-02,   4.76400593e-01]],\n",
       "\n",
       "        [[  2.48479707e-01,   6.54510154e-02,   3.05364973e-01, ...,\n",
       "            3.36427896e-01,   6.59669872e-01,   6.68556364e-01],\n",
       "         [  4.56517389e-01,   7.74257409e-01,   7.03616360e-01, ...,\n",
       "            3.67373173e-01,   6.72875398e-01,   3.33190438e-01],\n",
       "         [  1.80059580e-01,   2.43731748e-02,   6.13198265e-03, ...,\n",
       "            6.08895900e-01,   7.89417417e-02,   1.80382316e-01],\n",
       "         [  2.60666533e-02,   7.12285661e-01,   8.27628707e-01, ...,\n",
       "            6.09261942e-01,   6.53206242e-02,   5.01650070e-01]],\n",
       "\n",
       "        [[  3.97005960e-01,   6.87200011e-02,   3.02448180e-01, ...,\n",
       "            4.90825809e-01,   4.22812818e-01,   3.43871971e-01],\n",
       "         [  4.35800476e-01,   3.56530243e-01,   3.86462134e-01, ...,\n",
       "            3.67305221e-01,   4.75309394e-01,   3.93390111e-02],\n",
       "         [  8.34044256e-02,   4.89641951e-01,   5.66808139e-01, ...,\n",
       "            5.99782637e-01,   5.46571544e-01,   1.30141510e-01],\n",
       "         [  8.41847142e-02,   7.61655574e-01,   7.53622115e-02, ...,\n",
       "            4.69547343e-01,   2.76603914e-01,   5.35257129e-04]],\n",
       "\n",
       "        ..., \n",
       "        [[  7.51906214e-01,   5.75601326e-01,   8.27306329e-01, ...,\n",
       "            5.29312858e-01,   1.37008674e-01,   4.95315379e-01],\n",
       "         [  4.42058763e-01,   8.07199127e-01,   8.03423480e-01, ...,\n",
       "            7.11709390e-01,   3.03641139e-01,   8.38495981e-01],\n",
       "         [  2.07796383e-01,   1.35573293e-01,   6.44037106e-01, ...,\n",
       "            1.24744277e-01,   4.06191134e-01,   1.66921061e-01],\n",
       "         [  9.90985426e-02,   3.59296286e-01,   8.32807179e-01, ...,\n",
       "            2.20035627e-01,   3.06048818e-01,   5.81684496e-01]],\n",
       "\n",
       "        [[  4.81697450e-01,   7.65165267e-01,   3.23190510e-01, ...,\n",
       "            4.36351750e-01,   1.97147628e-01,   7.07740785e-01],\n",
       "         [  6.40123111e-01,   6.98607039e-01,   4.49017704e-01, ...,\n",
       "            1.83585170e-01,   7.63987914e-01,   6.80018357e-01],\n",
       "         [  5.26937731e-01,   7.79448753e-01,   5.67624089e-01, ...,\n",
       "            7.70057312e-01,   3.84272009e-01,   6.79445285e-01],\n",
       "         [  1.74573572e-01,   7.32943203e-01,   6.31527749e-01, ...,\n",
       "            7.88817684e-01,   7.04497250e-01,   3.35874167e-01]],\n",
       "\n",
       "        [[  1.45886331e-01,   1.40166747e-01,   4.75735802e-01, ...,\n",
       "            6.16626312e-01,   4.75315929e-01,   7.02857230e-01],\n",
       "         [  3.57635865e-01,   5.01309709e-01,   2.39599175e-01, ...,\n",
       "            4.20796498e-02,   1.64851068e-01,   8.00014426e-01],\n",
       "         [  2.45116523e-01,   7.32877367e-01,   8.02634208e-01, ...,\n",
       "            1.07816320e-01,   7.32997198e-01,   4.88141852e-01],\n",
       "         [  6.95037076e-01,   5.06575289e-01,   7.19759093e-01, ...,\n",
       "            3.39112033e-01,   7.71125377e-01,   6.16234535e-01]]],\n",
       "\n",
       "\n",
       "       [[[  6.88778400e-01,   2.14849904e-01,   5.63345105e-01, ...,\n",
       "            2.16846197e-01,   7.68289566e-01,   6.23103852e-01],\n",
       "         [  1.53716374e-01,   7.38017289e-01,   1.86332022e-01, ...,\n",
       "            1.73036773e-01,   9.56463797e-02,   7.20757322e-01],\n",
       "         [  7.86340968e-02,   6.19933611e-01,   6.95545481e-01, ...,\n",
       "            7.74275232e-01,   8.16551376e-01,   7.37568541e-01],\n",
       "         [  4.81748223e-01,   4.53090867e-01,   5.62435610e-02, ...,\n",
       "            3.37698333e-01,   7.10357193e-01,   7.67806771e-01]],\n",
       "\n",
       "        [[  3.52259915e-01,   4.65580245e-01,   7.48123776e-01, ...,\n",
       "            6.66653638e-01,   4.27995310e-01,   1.41452363e-01],\n",
       "         [  1.86552912e-01,   7.21053321e-01,   6.48692319e-01, ...,\n",
       "            8.17998121e-01,   1.67832241e-01,   7.48830482e-01],\n",
       "         [  3.72525172e-01,   8.17901375e-01,   1.40673404e-01, ...,\n",
       "            5.32370259e-01,   5.31777177e-01,   5.57978852e-01],\n",
       "         [  4.76025289e-01,   6.28912449e-01,   4.98380012e-01, ...,\n",
       "            4.82376088e-01,   6.58093238e-01,   2.07423404e-01]],\n",
       "\n",
       "        [[  6.19338843e-01,   2.51112670e-02,   6.65813177e-01, ...,\n",
       "            2.33308467e-01,   8.14284220e-01,   7.64066477e-01],\n",
       "         [  7.01440411e-01,   8.31365288e-01,   1.07991964e-01, ...,\n",
       "            3.75773312e-01,   1.87586878e-01,   8.51004790e-02],\n",
       "         [  2.36260154e-01,   5.78832605e-01,   5.28569715e-01, ...,\n",
       "            5.67113210e-01,   4.08348791e-01,   4.99524418e-01],\n",
       "         [  5.96684738e-01,   3.27995572e-01,   1.74682095e-01, ...,\n",
       "            3.86967963e-02,   1.92484890e-01,   5.45927660e-01]],\n",
       "\n",
       "        ..., \n",
       "        [[  5.49672417e-02,   8.21279139e-01,   3.47769280e-01, ...,\n",
       "            3.93579902e-01,   6.59963643e-01,   8.32892240e-01],\n",
       "         [  6.11706967e-01,   4.35362745e-01,   6.93531101e-01, ...,\n",
       "            1.19925028e-01,   4.74284510e-01,   8.23834731e-01],\n",
       "         [  5.20553914e-01,   9.83158339e-02,   8.26748971e-01, ...,\n",
       "            8.15444188e-01,   5.98811123e-01,   2.76427843e-01],\n",
       "         [  1.84430222e-01,   1.02903918e-01,   7.02447968e-01, ...,\n",
       "            1.55865415e-01,   6.12409641e-01,   8.21934333e-01]],\n",
       "\n",
       "        [[  4.17763268e-01,   3.28859442e-01,   4.95556092e-01, ...,\n",
       "            6.95533672e-01,   3.40764109e-01,   3.63418008e-01],\n",
       "         [  5.01564413e-01,   6.47530174e-01,   5.02823444e-01, ...,\n",
       "            5.80555505e-02,   3.08323257e-01,   2.91461744e-01],\n",
       "         [  3.70625173e-01,   7.81801068e-01,   7.60705441e-01, ...,\n",
       "            1.46217824e-01,   7.42846646e-02,   7.89665294e-01],\n",
       "         [  7.69619597e-01,   1.33359849e-01,   1.54631602e-01, ...,\n",
       "            2.07417654e-01,   6.87954819e-01,   6.51704331e-01]],\n",
       "\n",
       "        [[  5.15605655e-01,   5.25607578e-01,   5.77747763e-01, ...,\n",
       "            7.89328077e-01,   1.80751788e-01,   5.60714024e-01],\n",
       "         [  5.16153889e-01,   5.28776990e-01,   2.49379024e-01, ...,\n",
       "            3.18469662e-01,   3.89476516e-01,   3.91343535e-01],\n",
       "         [  2.95249784e-01,   2.16358146e-02,   4.08771286e-01, ...,\n",
       "            8.40471197e-01,   5.13629490e-01,   3.86676240e-01],\n",
       "         [  2.65877585e-01,   5.34348228e-01,   3.36054433e-01, ...,\n",
       "            8.15034389e-01,   1.87163576e-01,   5.94217536e-01]]],\n",
       "\n",
       "\n",
       "       [[[  5.27165895e-01,   7.43352862e-01,   4.65168020e-01, ...,\n",
       "            3.06793041e-01,   2.40970634e-01,   6.63151249e-01],\n",
       "         [  8.31281858e-01,   7.74195698e-01,   6.23067578e-01, ...,\n",
       "            4.57528847e-01,   9.88201977e-04,   2.31332930e-01],\n",
       "         [  5.62283076e-01,   3.21402735e-01,   7.27079462e-01, ...,\n",
       "            2.78570281e-01,   7.54106511e-01,   1.17801931e-01],\n",
       "         [  4.66978997e-01,   5.78913250e-01,   4.36566159e-01, ...,\n",
       "            5.73760331e-01,   1.50198470e-01,   6.73070978e-01]],\n",
       "\n",
       "        [[  5.39403229e-01,   8.05245275e-01,   8.62969770e-02, ...,\n",
       "            5.78785342e-01,   7.68526638e-01,   5.08673766e-01],\n",
       "         [  3.69455613e-01,   1.05920706e-01,   4.41783773e-01, ...,\n",
       "            3.59919601e-01,   7.02090971e-01,   1.77022603e-01],\n",
       "         [  4.61274692e-03,   7.48107887e-01,   5.44405629e-02, ...,\n",
       "            3.56509688e-01,   7.33583414e-01,   4.57398835e-01],\n",
       "         [  3.54769161e-01,   3.36805809e-01,   2.48169303e-02, ...,\n",
       "            8.31922639e-01,   6.80670131e-01,   3.58455335e-01]],\n",
       "\n",
       "        [[  6.01743252e-02,   5.96857214e-01,   1.97116723e-01, ...,\n",
       "            4.87247604e-01,   6.34686316e-01,   8.03063269e-01],\n",
       "         [  1.14416711e-01,   3.58248299e-01,   2.55611168e-01, ...,\n",
       "            8.14851540e-01,   3.75488363e-01,   1.26258837e-01],\n",
       "         [  5.86621553e-01,   2.29045032e-01,   7.76310809e-01, ...,\n",
       "            4.40113892e-02,   2.43425327e-01,   6.99295484e-01],\n",
       "         [  1.71299427e-01,   2.47069755e-01,   5.10925510e-01, ...,\n",
       "            5.49270906e-01,   1.85900971e-01,   8.32754878e-01]],\n",
       "\n",
       "        ..., \n",
       "        [[  7.37482482e-01,   2.20365070e-01,   8.32818562e-01, ...,\n",
       "            5.37117484e-01,   1.79814667e-01,   6.24788676e-01],\n",
       "         [  2.31767506e-01,   6.29066132e-01,   8.10427989e-01, ...,\n",
       "            3.94120499e-01,   1.21901981e-01,   4.14303512e-01],\n",
       "         [  5.55597600e-01,   6.85955665e-01,   8.38922059e-01, ...,\n",
       "            4.06064338e-01,   3.89694109e-01,   5.87458252e-01],\n",
       "         [  6.90697074e-01,   8.11701331e-01,   3.46595518e-01, ...,\n",
       "            1.93181278e-01,   5.32480887e-01,   3.45482401e-01]],\n",
       "\n",
       "        [[  4.45767261e-01,   1.27492062e-01,   6.20048814e-02, ...,\n",
       "            6.08166077e-01,   2.45950708e-01,   7.97095799e-01],\n",
       "         [  1.99222179e-01,   6.42464047e-01,   6.23789207e-01, ...,\n",
       "            8.13726425e-01,   5.62380006e-01,   6.90007706e-01],\n",
       "         [  9.83299457e-02,   6.01239787e-01,   6.46804527e-01, ...,\n",
       "            7.72797089e-01,   3.70337280e-01,   8.09573958e-01],\n",
       "         [  3.73202970e-01,   7.35517390e-01,   2.78784807e-01, ...,\n",
       "            1.18279002e-01,   8.57433941e-02,   6.98702492e-01]],\n",
       "\n",
       "        [[  6.12261544e-02,   2.68781545e-01,   2.64026093e-01, ...,\n",
       "            5.91671476e-04,   5.32967053e-01,   3.67957381e-01],\n",
       "         [  5.94643141e-01,   6.80022791e-01,   4.39103648e-01, ...,\n",
       "            5.71319897e-01,   6.55230047e-01,   9.31634214e-02],\n",
       "         [  1.07764150e-01,   6.49969388e-01,   7.65191502e-01, ...,\n",
       "            5.78248443e-01,   5.74151944e-01,   5.53457737e-01],\n",
       "         [  6.31128997e-01,   8.33329909e-01,   3.07585310e-01, ...,\n",
       "            7.09310702e-01,   7.13159414e-01,   4.43810906e-01]]],\n",
       "\n",
       "\n",
       "       ..., \n",
       "       [[[  2.91029823e-01,   6.25924925e-01,   5.78559604e-01, ...,\n",
       "            6.62434759e-01,   5.27366347e-01,   4.63812245e-01],\n",
       "         [  3.34582937e-01,   1.65678714e-02,   2.69232119e-02, ...,\n",
       "            3.40526636e-02,   3.64851434e-01,   3.12321299e-01],\n",
       "         [  6.49875296e-01,   2.22035982e-01,   6.97526227e-01, ...,\n",
       "            6.82951624e-01,   3.55068769e-01,   1.97106161e-01],\n",
       "         [  4.99400470e-01,   4.23994872e-01,   1.49723350e-01, ...,\n",
       "            5.25997875e-01,   6.42931198e-01,   3.69149916e-01]],\n",
       "\n",
       "        [[  4.08330196e-01,   5.74403158e-01,   8.21284512e-01, ...,\n",
       "            4.27367168e-01,   2.21750638e-01,   6.41304124e-02],\n",
       "         [  7.78547508e-01,   5.22129289e-01,   8.18556131e-01, ...,\n",
       "            4.48177097e-01,   7.07809556e-01,   5.08982771e-01],\n",
       "         [  3.08213471e-02,   3.95093617e-01,   9.79792838e-02, ...,\n",
       "            8.13208493e-01,   6.62915399e-01,   8.20590432e-01],\n",
       "         [  4.75626327e-01,   4.27957315e-01,   1.93287639e-01, ...,\n",
       "            5.62818719e-01,   8.11710432e-01,   1.11651629e-01]],\n",
       "\n",
       "        [[  4.44468168e-01,   7.25809105e-01,   7.73409827e-01, ...,\n",
       "            1.25662002e-01,   1.39886557e-01,   1.39075136e-01],\n",
       "         [  2.83521655e-01,   5.72784653e-02,   3.83105144e-01, ...,\n",
       "            7.97093140e-03,   7.46505293e-01,   6.89175615e-01],\n",
       "         [  3.83950766e-01,   4.02405506e-02,   5.01363315e-01, ...,\n",
       "            4.62874450e-02,   7.35045231e-03,   1.03293681e-01],\n",
       "         [  2.31330930e-01,   1.96449743e-01,   5.45698758e-01, ...,\n",
       "            7.91862348e-01,   3.37552807e-01,   7.05272798e-01]],\n",
       "\n",
       "        ..., \n",
       "        [[  4.02798114e-01,   2.49694784e-01,   2.99914820e-01, ...,\n",
       "            5.46594486e-01,   7.06915833e-01,   3.40018091e-01],\n",
       "         [  4.65685234e-01,   3.37898659e-01,   3.16185899e-01, ...,\n",
       "            2.22413403e-01,   8.01579783e-01,   4.72385674e-01],\n",
       "         [  2.36478062e-01,   7.10886678e-02,   2.45798107e-01, ...,\n",
       "            4.60098317e-01,   6.85518423e-01,   5.25708663e-01],\n",
       "         [  2.67768956e-01,   8.06023672e-01,   2.17914584e-02, ...,\n",
       "            3.24223305e-01,   5.65870808e-01,   5.80258433e-01]],\n",
       "\n",
       "        [[  2.80458892e-01,   3.59906240e-02,   2.45168744e-01, ...,\n",
       "            6.49264352e-01,   8.30034374e-01,   6.04463201e-01],\n",
       "         [  1.87839833e-01,   7.93503447e-01,   1.05156411e-01, ...,\n",
       "            4.58228453e-01,   2.41765764e-01,   7.40289878e-01],\n",
       "         [  6.11675841e-01,   2.21482038e-01,   4.11351876e-01, ...,\n",
       "            2.46409575e-01,   7.86835796e-01,   3.46573372e-01],\n",
       "         [  5.82949243e-01,   3.61167638e-01,   2.82148498e-01, ...,\n",
       "            8.20150379e-01,   2.29023973e-01,   3.98021131e-01]],\n",
       "\n",
       "        [[  6.11642539e-01,   1.92620369e-01,   7.71878354e-01, ...,\n",
       "            8.13523679e-01,   6.10489217e-01,   5.67260868e-01],\n",
       "         [  7.19388751e-01,   3.12680024e-02,   3.52443668e-01, ...,\n",
       "            5.89295180e-01,   6.26976569e-01,   3.65527002e-01],\n",
       "         [  7.20402217e-01,   2.62066357e-01,   7.81880279e-01, ...,\n",
       "            8.14985450e-01,   3.01336319e-02,   6.75925521e-01],\n",
       "         [  4.05700757e-01,   2.96746580e-01,   5.94463576e-01, ...,\n",
       "            5.91675854e-01,   1.84072449e-01,   2.36752337e-01]]],\n",
       "\n",
       "\n",
       "       [[[  7.88449679e-01,   2.65815628e-01,   5.88160592e-01, ...,\n",
       "            2.35427473e-01,   1.16622334e-02,   7.68731238e-01],\n",
       "         [  1.18553834e-01,   2.11651374e-01,   5.62502660e-01, ...,\n",
       "            2.21308880e-01,   1.61357356e-01,   9.06987988e-02],\n",
       "         [  6.93403445e-01,   2.76514521e-02,   1.72946343e-01, ...,\n",
       "            2.11994476e-01,   7.74590997e-01,   1.14532985e-01],\n",
       "         [  8.06363018e-01,   8.19119853e-01,   5.61911020e-01, ...,\n",
       "            4.78030423e-01,   5.00301478e-01,   3.88713829e-01]],\n",
       "\n",
       "        [[  3.68373545e-01,   9.71399352e-02,   8.27724077e-01, ...,\n",
       "            1.34755629e-01,   7.35337961e-01,   6.28311271e-01],\n",
       "         [  4.76261723e-01,   1.34358158e-01,   6.82488429e-01, ...,\n",
       "            6.44934483e-01,   7.73160565e-01,   3.81775720e-01],\n",
       "         [  7.56490677e-01,   2.55469424e-01,   6.10249946e-01, ...,\n",
       "            5.53098219e-01,   8.15783892e-01,   7.96952317e-01],\n",
       "         [  7.20163238e-01,   5.79071013e-01,   3.36036769e-01, ...,\n",
       "            6.48041872e-01,   1.35555676e-01,   2.54492268e-01]],\n",
       "\n",
       "        [[  7.57682229e-01,   4.97777577e-01,   6.75543519e-01, ...,\n",
       "            6.77063622e-01,   1.38865846e-01,   6.03545200e-01],\n",
       "         [  3.62873286e-02,   3.98088707e-01,   6.47193025e-01, ...,\n",
       "            7.91058573e-01,   2.35532732e-01,   2.02942766e-01],\n",
       "         [  7.31477099e-01,   3.86197842e-01,   8.24886402e-02, ...,\n",
       "            8.27514419e-01,   7.50061980e-01,   5.72816142e-01],\n",
       "         [  7.71966687e-01,   4.56960702e-01,   7.14733639e-01, ...,\n",
       "            2.82937904e-01,   2.29333345e-02,   3.47525095e-01]],\n",
       "\n",
       "        ..., \n",
       "        [[  6.32543360e-01,   7.92361838e-01,   4.54678744e-01, ...,\n",
       "            2.71766478e-01,   1.93474233e-01,   6.20534132e-01],\n",
       "         [  1.41667406e-01,   3.63916855e-01,   6.77150143e-01, ...,\n",
       "            4.78074225e-01,   1.54923760e-01,   3.93091800e-01],\n",
       "         [  1.63642138e-01,   3.63120382e-01,   7.84915250e-01, ...,\n",
       "            2.84037729e-01,   5.17892821e-01,   2.39667209e-01],\n",
       "         [  1.31601037e-01,   6.70764853e-01,   3.98310385e-01, ...,\n",
       "            1.32819101e-01,   3.62979258e-01,   1.04941205e-01]],\n",
       "\n",
       "        [[  1.87948153e-01,   8.65660882e-02,   7.48570261e-01, ...,\n",
       "            7.11568804e-01,   3.24272768e-01,   6.19679769e-01],\n",
       "         [  5.68505903e-01,   7.63208792e-01,   3.70011319e-01, ...,\n",
       "            8.65177709e-02,   6.61968784e-02,   8.41271200e-01],\n",
       "         [  3.85119231e-01,   2.41678530e-01,   3.01791058e-01, ...,\n",
       "            5.51048571e-01,   6.91936326e-01,   7.53152792e-01],\n",
       "         [  2.50710067e-01,   7.47131839e-01,   8.31315359e-01, ...,\n",
       "            3.44225228e-01,   3.82282030e-01,   3.74147219e-01]],\n",
       "\n",
       "        [[  5.26461979e-01,   4.44836540e-01,   3.83366600e-01, ...,\n",
       "            5.57480011e-01,   2.07881201e-01,   4.76535781e-01],\n",
       "         [  7.48426892e-01,   1.47205685e-01,   5.59875631e-01, ...,\n",
       "            7.47105396e-01,   8.80111051e-04,   2.76414195e-01],\n",
       "         [  5.12282434e-01,   6.26142871e-01,   7.85740890e-01, ...,\n",
       "            7.11107799e-01,   5.14193825e-01,   7.24546555e-01],\n",
       "         [  3.22323636e-01,   7.91384797e-01,   5.79796043e-01, ...,\n",
       "            4.69344948e-01,   3.10773593e-01,   8.01635293e-01]]],\n",
       "\n",
       "\n",
       "       [[[  4.14950380e-01,   5.56957469e-01,   4.01055409e-01, ...,\n",
       "            7.59534325e-01,   8.33066770e-01,   5.44305433e-01],\n",
       "         [  2.29554311e-01,   2.83922088e-01,   2.01983374e-01, ...,\n",
       "            2.71451960e-01,   8.24488967e-01,   6.88781102e-01],\n",
       "         [  2.77044192e-01,   5.76201063e-01,   1.25855122e-01, ...,\n",
       "            6.29861879e-01,   8.27900552e-01,   1.10810466e-01],\n",
       "         [  1.95561425e-02,   5.37472081e-01,   5.31630973e-01, ...,\n",
       "            3.81470557e-01,   7.05644569e-01,   4.78345762e-01]],\n",
       "\n",
       "        [[  3.20393556e-01,   6.79941019e-01,   3.49199681e-01, ...,\n",
       "            1.39866892e-01,   7.66999222e-01,   3.11318134e-01],\n",
       "         [  3.25894329e-01,   2.23015890e-01,   6.80383563e-01, ...,\n",
       "            8.54888304e-02,   5.34951590e-02,   9.14264170e-02],\n",
       "         [  4.77398731e-01,   6.04438296e-01,   4.24437252e-01, ...,\n",
       "            7.66576899e-02,   2.05696341e-02,   7.34504809e-01],\n",
       "         [  7.38340622e-01,   8.26348330e-01,   5.57060364e-01, ...,\n",
       "            2.16435646e-01,   7.47014619e-01,   3.78626034e-01]],\n",
       "\n",
       "        [[  6.19630334e-01,   9.23460078e-02,   3.10601890e-01, ...,\n",
       "            3.26853889e-01,   8.35832218e-01,   6.57056142e-01],\n",
       "         [  2.39429285e-01,   1.72173999e-01,   2.32737496e-01, ...,\n",
       "            2.04403612e-01,   5.47859140e-01,   4.67909725e-01],\n",
       "         [  5.77580984e-01,   1.06210520e-02,   7.10016160e-01, ...,\n",
       "            7.32221836e-01,   8.37439317e-01,   4.98934091e-01],\n",
       "         [  6.52694155e-01,   3.18615521e-02,   3.15741478e-01, ...,\n",
       "            5.72824458e-01,   8.14314754e-01,   7.61694603e-01]],\n",
       "\n",
       "        ..., \n",
       "        [[  6.72954966e-01,   3.47209754e-01,   7.44814184e-01, ...,\n",
       "            4.26348262e-02,   4.34083269e-01,   1.25305925e-01],\n",
       "         [  3.64555000e-01,   5.54969192e-01,   1.02420358e-01, ...,\n",
       "            2.02594322e-01,   7.30519460e-01,   5.45076212e-01],\n",
       "         [  9.57004445e-02,   6.47366291e-01,   7.78148732e-02, ...,\n",
       "            4.52978501e-01,   7.64346944e-01,   6.98257158e-01],\n",
       "         [  5.13573481e-01,   6.61101683e-01,   6.94831092e-01, ...,\n",
       "            6.98441429e-01,   1.28254075e-01,   4.94013792e-01]],\n",
       "\n",
       "        [[  1.66651282e-01,   6.52224055e-02,   3.59162694e-01, ...,\n",
       "            4.34040949e-01,   3.89564650e-01,   1.94268177e-01],\n",
       "         [  2.99435432e-01,   7.18296433e-01,   2.51612187e-01, ...,\n",
       "            4.57579426e-01,   2.37893478e-01,   3.11292488e-02],\n",
       "         [  1.38948432e-02,   7.71806741e-01,   9.56140670e-02, ...,\n",
       "            4.85627255e-01,   7.93726908e-01,   7.01156248e-03],\n",
       "         [  8.00922761e-01,   4.62368232e-01,   6.48655249e-02, ...,\n",
       "            5.08212281e-01,   5.59147205e-01,   1.43742174e-01]],\n",
       "\n",
       "        [[  1.95081582e-01,   3.60974564e-01,   7.51554076e-02, ...,\n",
       "            4.75113548e-01,   3.93169407e-01,   6.41132227e-01],\n",
       "         [  5.57204991e-02,   5.88668939e-01,   9.34243759e-02, ...,\n",
       "            6.61354635e-01,   3.40074133e-01,   8.04768519e-01],\n",
       "         [  3.27940653e-01,   8.37135917e-01,   5.74914900e-01, ...,\n",
       "            7.22975698e-01,   3.53323277e-01,   2.20886372e-02],\n",
       "         [  3.50232151e-01,   4.53719937e-01,   7.80120113e-01, ...,\n",
       "            7.60680937e-01,   1.18735016e-01,   4.73817410e-01]]]])"
      ]
     },
     "execution_count": 32,
     "metadata": {},
     "output_type": "execute_result"
    }
   ],
   "source": [
    "np.sin(fake_solar_data[100:300])"
   ]
  },
  {
   "cell_type": "markdown",
   "metadata": {},
   "source": [
    "So, here we have used the sin function within NumPy and used as an argument, the entire fake_solar_data array. Unlike the core math module in Python, you can enter entire lists or arrays into NumPy functions.\n",
    "\n",
    "NumPy has a large selection of functions, from the traditional trigonometric functions to min/max to interpolation. \n",
    "\n",
    "The online doucmantion is pretty extensive and is the best place to find the function you are after. Found here: http://docs.scipy.org/doc/numpy/reference/ It showcases the core of NumPy.\n",
    "\n",
    "On a side-note, within IPython, to raise the help page, type the function and then have a question mark at the end. Normally you will have to Google the function to bring up its documentation."
   ]
  },
  {
   "cell_type": "code",
   "execution_count": 33,
   "metadata": {
    "collapsed": false
   },
   "outputs": [],
   "source": [
    "np.max?"
   ]
  },
  {
   "cell_type": "markdown",
   "metadata": {
    "collapsed": true
   },
   "source": [
    "Time for a segway function!\n",
    "The dot function."
   ]
  },
  {
   "cell_type": "code",
   "execution_count": 34,
   "metadata": {
    "collapsed": true
   },
   "outputs": [],
   "source": [
    "np.dot?"
   ]
  },
  {
   "cell_type": "code",
   "execution_count": 35,
   "metadata": {
    "collapsed": false
   },
   "outputs": [
    {
     "data": {
      "text/plain": [
       "array([[4, 1],\n",
       "       [2, 2]])"
      ]
     },
     "execution_count": 35,
     "metadata": {},
     "output_type": "execute_result"
    }
   ],
   "source": [
    "a = [[1, 0], [0, 1]]\n",
    "b = [[4, 1], [2, 2]]\n",
    "np.dot(a, b)"
   ]
  },
  {
   "cell_type": "markdown",
   "metadata": {},
   "source": [
    "This should look familiar, since it is matrix multiplication. But what if we want to work in matrices only? \n",
    "Luckily, NumPy has a matrix object."
   ]
  },
  {
   "cell_type": "code",
   "execution_count": 36,
   "metadata": {
    "collapsed": false
   },
   "outputs": [
    {
     "data": {
      "text/plain": [
       "matrix([[1, 0],\n",
       "        [0, 1]])"
      ]
     },
     "execution_count": 36,
     "metadata": {},
     "output_type": "execute_result"
    }
   ],
   "source": [
    "a = np.matrix(a)\n",
    "b = np.matrix(b)\n",
    "a"
   ]
  },
  {
   "cell_type": "markdown",
   "metadata": {},
   "source": [
    "So now everything we do will follow the rules of matrices.\n",
    "\n",
    "Summation!"
   ]
  },
  {
   "cell_type": "code",
   "execution_count": 37,
   "metadata": {
    "collapsed": false
   },
   "outputs": [
    {
     "data": {
      "text/plain": [
       "matrix([[5, 1],\n",
       "        [2, 3]])"
      ]
     },
     "execution_count": 37,
     "metadata": {},
     "output_type": "execute_result"
    }
   ],
   "source": [
    "a + b"
   ]
  },
  {
   "cell_type": "markdown",
   "metadata": {},
   "source": [
    "Multiplication!"
   ]
  },
  {
   "cell_type": "code",
   "execution_count": 38,
   "metadata": {
    "collapsed": false
   },
   "outputs": [
    {
     "data": {
      "text/plain": [
       "matrix([[4, 1],\n",
       "        [2, 2]])"
      ]
     },
     "execution_count": 38,
     "metadata": {},
     "output_type": "execute_result"
    }
   ],
   "source": [
    "a * b"
   ]
  },
  {
   "cell_type": "markdown",
   "metadata": {},
   "source": [
    "Transpose!"
   ]
  },
  {
   "cell_type": "code",
   "execution_count": 39,
   "metadata": {
    "collapsed": false
   },
   "outputs": [
    {
     "data": {
      "text/plain": [
       "matrix([[4, 2],\n",
       "        [1, 2]])"
      ]
     },
     "execution_count": 39,
     "metadata": {},
     "output_type": "execute_result"
    }
   ],
   "source": [
    "(a * b).T"
   ]
  },
  {
   "cell_type": "markdown",
   "metadata": {},
   "source": [
    "<div style='background:#B1E0A8; padding:10px 10px 10px 10px;'>\n",
    "<h2>Challenges</h2>\n",
    "<p>\n",
    "<ol>\n",
    "<li> Find the maximum value in the fake_solar_data array for the first timestep and wavelength. </li>\n",
    "<li> Now index the array to create an array of maximums. </li>\n",
    "</p>\n",
    "</div>"
   ]
  },
  {
   "cell_type": "markdown",
   "metadata": {},
   "source": [
    "## Solution 1"
   ]
  },
  {
   "cell_type": "code",
   "execution_count": 68,
   "metadata": {
    "collapsed": false
   },
   "outputs": [
    {
     "data": {
      "text/plain": [
       "22418"
      ]
     },
     "execution_count": 68,
     "metadata": {},
     "output_type": "execute_result"
    }
   ],
   "source": [
    "np.argmax(fake_solar_data[:,:,0,0])"
   ]
  },
  {
   "cell_type": "markdown",
   "metadata": {},
   "source": [
    "## Solution 2"
   ]
  },
  {
   "cell_type": "code",
   "execution_count": 69,
   "metadata": {
    "collapsed": false
   },
   "outputs": [
    {
     "data": {
      "text/plain": [
       "0.99999875066820409"
      ]
     },
     "execution_count": 69,
     "metadata": {},
     "output_type": "execute_result"
    }
   ],
   "source": [
    "fake_solar_data[:,:,0,0].flat[22418]"
   ]
  },
  {
   "cell_type": "markdown",
   "metadata": {},
   "source": [
    "# I/O"
   ]
  },
  {
   "cell_type": "code",
   "execution_count": 41,
   "metadata": {
    "collapsed": true
   },
   "outputs": [],
   "source": [
    "from IPython.display import Image"
   ]
  },
  {
   "cell_type": "code",
   "execution_count": null,
   "metadata": {
    "collapsed": false
   },
   "outputs": [],
   "source": [
    "Image('2015-03-24.jpg')"
   ]
  },
  {
   "cell_type": "markdown",
   "metadata": {},
   "source": [
    "Input/Output is a overlooked topic. You will on occasion have have to deal with text files or comma-separated files (CSV). NumPy offers a convenient method to opening and saving out these kind of files.\n",
    "\n",
    "Let us deal with saving first!"
   ]
  },
  {
   "cell_type": "code",
   "execution_count": null,
   "metadata": {
    "collapsed": false
   },
   "outputs": [],
   "source": [
    "arr"
   ]
  },
  {
   "cell_type": "code",
   "execution_count": null,
   "metadata": {
    "collapsed": false
   },
   "outputs": [],
   "source": [
    "np.savetxt('test.txt',arr)"
   ]
  },
  {
   "cell_type": "code",
   "execution_count": null,
   "metadata": {
    "collapsed": false
   },
   "outputs": [],
   "source": [
    "np.loadtxt('test.txt')"
   ]
  },
  {
   "cell_type": "code",
   "execution_count": null,
   "metadata": {
    "collapsed": false
   },
   "outputs": [],
   "source": [
    "np.loadtxt('fakenames.csv',delimiter=',')"
   ]
  },
  {
   "cell_type": "markdown",
   "metadata": {},
   "source": [
    "So what has happened here? This CSV file is complex. Typically if you plan to use NumPy loadtxt, you have simple data files. \n",
    "\n",
    "This CSV file has a header row, some of the entries aren't even numbers. Numpy hates this."
   ]
  },
  {
   "cell_type": "code",
   "execution_count": null,
   "metadata": {
    "collapsed": false
   },
   "outputs": [],
   "source": [
    "np.genfromtxt('fakenames.csv', delimiter=',')[0]"
   ]
  },
  {
   "cell_type": "markdown",
   "metadata": {},
   "source": [
    "So this is slightly better. But it really isn't want you want. \n",
    "Let us try another function!"
   ]
  },
  {
   "cell_type": "code",
   "execution_count": null,
   "metadata": {
    "collapsed": false
   },
   "outputs": [],
   "source": [
    "np.recfromcsv('fakenames.csv')[1]"
   ]
  },
  {
   "cell_type": "markdown",
   "metadata": {},
   "source": [
    "That is better. While we now lack the header, we can see each entry and it seems reasonably clear what each column is.\n",
    "\n",
    "This kind of data shifting would better be using a different library. But that is for another time."
   ]
  },
  {
   "cell_type": "markdown",
   "metadata": {
    "collapsed": true
   },
   "source": [
    "# SciPy"
   ]
  },
  {
   "cell_type": "markdown",
   "metadata": {},
   "source": [
    "It is difficult to talk about NumPy without mentioning SciPy, its older brother. \n",
    "\n",
    "SciPy has alot of functions that are near identical from NumPy, for example the FFT routines in NumPy also exist in SciPy. So which do you use?"
   ]
  },
  {
   "cell_type": "markdown",
   "metadata": {},
   "source": [
    "# YOU USE SCIPY\n",
    "\n",
    "The reason for this is that NumPy contains pieces of code for backwards compatibility (spits). So as a result has routines that are not as well developed as SciPy.\n",
    "\n",
    "Before I go too far, to show an example of this, the SciPy IO module is more advanced than NumPys. It has the ability to read in IDL save files (but not write them due to license issues)."
   ]
  },
  {
   "cell_type": "code",
   "execution_count": null,
   "metadata": {
    "collapsed": true
   },
   "outputs": [],
   "source": [
    "from scipy.io import readsav "
   ]
  },
  {
   "cell_type": "markdown",
   "metadata": {},
   "source": [
    "There is an IDL savefile called \"area_thresh.sav\" in this directory!"
   ]
  },
  {
   "cell_type": "markdown",
   "metadata": {},
   "source": [
    "<div style='background:#B1E0A8; padding:10px 10px 10px 10px;'>\n",
    "<h2>Challenges</h2>\n",
    "<p>\n",
    "<ol>\n",
    "<li> With this IDL savefile, extract the area and intensity data series it contains. </li>\n",
    "<li> Then save out these arrays as a CSV file. </li>\n",
    "</p>\n",
    "</div>"
   ]
  },
  {
   "cell_type": "markdown",
   "metadata": {},
   "source": [
    "## Solution 1"
   ]
  },
  {
   "cell_type": "code",
   "execution_count": null,
   "metadata": {
    "collapsed": true
   },
   "outputs": [],
   "source": [
    "area = readsav('area_thresh.sav')['area']\n",
    "intensity = readsav('area_thresh.sav')['intensity']"
   ]
  },
  {
   "cell_type": "markdown",
   "metadata": {},
   "source": [
    "## Solution 2"
   ]
  },
  {
   "cell_type": "code",
   "execution_count": null,
   "metadata": {
    "collapsed": false
   },
   "outputs": [],
   "source": [
    "np.savetxt('area.csv',area, delimiter=',')\n",
    "np.savetxt('intensity.csv',intensity, delimiter=',')"
   ]
  }
 ],
 "metadata": {
  "kernelspec": {
   "display_name": "Python 2",
   "language": "python",
   "name": "python2"
  },
  "language_info": {
   "codemirror_mode": {
    "name": "ipython",
    "version": 2
   },
   "file_extension": ".py",
   "mimetype": "text/x-python",
   "name": "python",
   "nbconvert_exporter": "python",
   "pygments_lexer": "ipython2",
   "version": "2.7.9"
  }
 },
 "nbformat": 4,
 "nbformat_minor": 0
}
