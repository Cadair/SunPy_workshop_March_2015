{
 "cells": [
  {
   "cell_type": "markdown",
   "metadata": {},
   "source": [
    "#SunPy Workshop\n",
    "\n",
    "This repository contains all the lessons for the SunPy Workshop."
   ]
  },
  {
   "cell_type": "markdown",
   "metadata": {},
   "source": [
    "Add links to all the lessons here *e.g.*:\n",
    "\n",
    "* [Git](01-git/git.ipynb)"
   ]
  }
 ],
 "metadata": {
  "kernelspec": {
   "display_name": "Python 2",
   "language": "python",
   "name": "python2"
  },
  "language_info": {
   "codemirror_mode": {
    "name": "ipython",
    "version": 2
   },
   "file_extension": ".py",
   "mimetype": "text/x-python",
   "name": "python",
   "nbconvert_exporter": "python",
   "pygments_lexer": "ipython2",
   "version": "2.7.9"
  }
 },
 "nbformat": 4,
 "nbformat_minor": 0
}
